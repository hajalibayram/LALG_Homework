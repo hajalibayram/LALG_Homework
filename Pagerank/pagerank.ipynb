{
 "cells": [
  {
   "cell_type": "code",
   "execution_count": 1,
   "metadata": {
    "executionInfo": {
     "elapsed": 3369,
     "status": "ok",
     "timestamp": 1610277309062,
     "user": {
      "displayName": "Hafez Ghaemi",
      "photoUrl": "https://lh3.googleusercontent.com/a-/AOh14Gg-W7owKM-pSmFqwgGFquqn6cW5l71vIeODceTfHQ=s64",
      "userId": "11980921683188918402"
     },
     "user_tz": -210
    },
    "id": "-gpWGOwmLeuI"
   },
   "outputs": [],
   "source": [
    "import copy\n",
    "import numpy as np\n",
    "import matplotlib.pyplot as plt\n",
    "from scipy import sparse\n",
    "path = 'edges_file_python.txt'\n",
    "s=289963\n",
    "np.random.seed(s)"
   ]
  },
  {
   "cell_type": "code",
   "execution_count": 2,
   "metadata": {
    "executionInfo": {
     "elapsed": 3365,
     "status": "ok",
     "timestamp": 1610277309064,
     "user": {
      "displayName": "Hafez Ghaemi",
      "photoUrl": "https://lh3.googleusercontent.com/a-/AOh14Gg-W7owKM-pSmFqwgGFquqn6cW5l71vIeODceTfHQ=s64",
      "userId": "11980921683188918402"
     },
     "user_tz": -210
    },
    "id": "-hv0g6JB3lpW"
   },
   "outputs": [],
   "source": [
    "def adj_mat(path):\n",
    "    first = []\n",
    "    second = []\n",
    "    with open(path, 'r') as f:\n",
    "        for line in f:\n",
    "            l = line.strip()\n",
    "            s = l.split()\n",
    "            first.append(int(s[0]))\n",
    "            second.append(int(s[1]))\n",
    "        n = first[-1]+1 \n",
    "    G = np.zeros((n, n))\n",
    "    for i in range(len(first)):\n",
    "        G[first[i]][second[i]] = 1\n",
    "    return G, sparse.csr_matrix(G), n\n",
    "\n",
    "def in_out_degs(G):\n",
    "    r = np.sum(G, axis=1)\n",
    "    c = np.sum(G, axis=0)\n",
    "    return r, c\n",
    "\n",
    "def hyperlink_mat(n ,G, c):\n",
    "    M = np.zeros((n,n))\n",
    "    for i in range(n):\n",
    "        for j in range(n):\n",
    "            if c[j] != 0:\n",
    "                M[i][j] = G[i][j]/c[j]\n",
    "    spM = sparse.csr_matrix(M)\n",
    "    return M, spM\n",
    "\n",
    "def mod_hyperlink_mat(n, G, c):\n",
    "    M_hat = np.zeros((n, n))\n",
    "    for i in range(n):\n",
    "        for j in range(n):\n",
    "            if c[j] == 0:\n",
    "                M_hat[i][j] = float(1/n)\n",
    "            else:\n",
    "                M_hat[i][j] = G[i][j]/c[j]\n",
    "    spM_hat = sparse.csr_matrix(M_hat)\n",
    "    return M_hat, spM_hat\n",
    "\n",
    "\n",
    "def power_method(A, tol=1e-16, maxIter=5000, x=None):\n",
    "    n = A.shape[0]\n",
    "    if x == None:\n",
    "        x = np.ones((n,1))\n",
    "    lambda_old = -1\n",
    "    error = 1.0\n",
    "    for i in range(maxIter):\n",
    "        \n",
    "        x = np.matmul(A,x)\n",
    "\n",
    "        # Finding new Eigen value and Eigen vector\n",
    "        lambda_new = max(abs(x))\n",
    "        x = abs(x/lambda_new)\n",
    "\n",
    "        error = abs(lambda_new-lambda_old)\n",
    "        if error <= tol:\n",
    "            break\n",
    "        lambda_old = copy.deepcopy(lambda_new)\n",
    "\n",
    "    return lambda_new, x/np.sum(x), i+1, error\n",
    "\n",
    "def google_mat(G, c, alpha):\n",
    "    n = G.shape[0]\n",
    "    delta = (1-alpha)/n\n",
    "    A = np.zeros((n, n))\n",
    "    for i in range(n):\n",
    "        for j in range(n):\n",
    "            if c[j] == 0:\n",
    "                A[i][j] = 1/n\n",
    "            else:\n",
    "                A[i][j] = alpha*(G[i][j]/c[j])+delta\n",
    "    return A\n",
    "\n",
    "def explore_web(A, maxIter=5000, tol=1e-16):\n",
    "    n = A.shape[0]\n",
    "    t = np.full((n,1), 1/n)\n",
    "    A_tmp = copy.deepcopy(A)\n",
    "    t_prev = copy.deepcopy(t)\n",
    "    for k in range(maxIter):\n",
    "        t = np.matmul(A_tmp, t)\n",
    "        if np.linalg.norm(t_prev-t) <= tol:\n",
    "            break\n",
    "        t_prev = copy.deepcopy(t)\n",
    "    return t, k+1\n",
    "\n",
    "\n",
    "def matrix_sparser(A, G, c, alpha):\n",
    "    n = A.shape[0]\n",
    "    D = np.zeros((n, n))\n",
    "    z = np.zeros(n)\n",
    "    e = np.ones(n)\n",
    "    delta = (1-alpha)/n\n",
    "    for j in range(n):\n",
    "        if c[j] != 0:\n",
    "            D[j][j] = 1 / c[j]\n",
    "            z[j] = delta\n",
    "        else:\n",
    "            z[j] = 1 / n\n",
    "\n",
    "    return alpha * (G @ D), e * z\n",
    "\n",
    "def shiftedPowerMethod(A, maxIter=5000, tol=1e-16):\n",
    "    lambda1, _, _, _ = power_method(A, maxIter=maxIter, tol=tol)\n",
    "    B = A-abs(lambda1)*np.eye(A.shape[0])\n",
    "    tmpLambda2, _, _, _ = power_method(B)\n",
    "    return abs(tmpLambda2)-abs(lambda1)\n",
    "\n",
    "def shifted_power_method(A, maxIter=5000, tol=1e-16):\n",
    "    lambda1, v1, _, _ = power_method(A, maxIter=5000, tol=1e-16)\n",
    "    B = A-abs(lambda1)*np.eye(A.shape[0])\n",
    "    tmpLambda2, _, _, _ = power_method(B)\n",
    "    return tmpLambda2\n",
    "\n"
   ]
  },
  {
   "cell_type": "code",
   "execution_count": 3,
   "metadata": {},
   "outputs": [
    {
     "name": "stdout",
     "output_type": "stream",
     "text": [
      "The original adjacency matrix:\n",
      "[[1. 1. 0. ... 1. 1. 0.]\n",
      " [1. 0. 0. ... 0. 0. 0.]\n",
      " [1. 0. 0. ... 0. 0. 0.]\n",
      " ...\n",
      " [0. 0. 0. ... 1. 1. 0.]\n",
      " [0. 0. 0. ... 1. 1. 0.]\n",
      " [0. 0. 0. ... 0. 1. 0.]]\n"
     ]
    },
    {
     "data": {
      "image/png": "[encoded data removed]",
      "text/plain": [
       "<Figure size 720x720 with 1 Axes>"
      ]
     },
     "metadata": {
      "needs_background": "light"
     },
     "output_type": "display_data"
    }
   ],
   "source": [
    "\n",
    "### Q1\n",
    "G, spG, n = adj_mat(path)\n",
    "print('The original adjacency matrix:')\n",
    "print(G)\n",
    "fig1, ax1 = plt.subplots(figsize=(10, 10))\n",
    "ax1.set_title('Sparsity pattern of G')\n",
    "ax1.spy(spG)\n",
    "fig1.savefig('fig1.eps', format='eps')\n",
    "\n",
    "plt.show()\n"
   ]
  },
  {
   "cell_type": "code",
   "execution_count": 4,
   "metadata": {},
   "outputs": [
    {
     "name": "stdout",
     "output_type": "stream",
     "text": [
      "in-degs vector:\n",
      "[1109.    3.    2. ...    5.    5.    4.]\n",
      "out-degs vector:\n",
      "[179.  13.   0. ...  35.  36.   0.]\n"
     ]
    }
   ],
   "source": [
    "### Q3\n",
    "r, c =  in_out_degs(G)\n",
    "print('in-degs vector:')\n",
    "print(r)\n",
    "print('out-degs vector:')\n",
    "print(c)\n"
   ]
  },
  {
   "cell_type": "code",
   "execution_count": 5,
   "metadata": {},
   "outputs": [
    {
     "name": "stdout",
     "output_type": "stream",
     "text": [
      "The hyperlink matrix:\n",
      "[[0.00558659 0.07692308 0.         ... 0.02857143 0.02777778 0.        ]\n",
      " [0.00558659 0.         0.         ... 0.         0.         0.        ]\n",
      " [0.00558659 0.         0.         ... 0.         0.         0.        ]\n",
      " ...\n",
      " [0.         0.         0.         ... 0.02857143 0.02777778 0.        ]\n",
      " [0.         0.         0.         ... 0.02857143 0.02777778 0.        ]\n",
      " [0.         0.         0.         ... 0.         0.02777778 0.        ]]\n"
     ]
    },
    {
     "data": {
      "image/png": "[encoded data removed]",
      "text/plain": [
       "<Figure size 720x720 with 1 Axes>"
      ]
     },
     "metadata": {
      "needs_background": "light"
     },
     "output_type": "display_data"
    }
   ],
   "source": [
    "### Q5\n",
    "M, spM = hyperlink_mat(n, G, c)\n",
    "print('The hyperlink matrix:')\n",
    "print(M)\n",
    "fig2, ax2 = plt.subplots(figsize=(10, 10))\n",
    "ax2.set_title('Sparsity pattern of M')\n",
    "ax2.spy(spM)\n",
    "fig2.savefig('fig2.eps', format='eps')\n",
    "\n",
    "plt.show()"
   ]
  },
  {
   "cell_type": "code",
   "execution_count": 6,
   "metadata": {},
   "outputs": [
    {
     "name": "stdout",
     "output_type": "stream",
     "text": [
      "The modified hyperlink matrix:\n"
     ]
    },
    {
     "data": {
      "image/png": "[encoded data removed]",
      "text/plain": [
       "<Figure size 720x720 with 1 Axes>"
      ]
     },
     "metadata": {
      "needs_background": "light"
     },
     "output_type": "display_data"
    }
   ],
   "source": [
    "### Q7\n",
    "M_hat, spM_hat = mod_hyperlink_mat(n, G, c)\n",
    "print('The modified hyperlink matrix:')\n",
    "fig3, ax3 = plt.subplots(figsize=(10, 10))\n",
    "ax3.set_title('Sparsity pattern of M_hat')\n",
    "ax3.spy(spM_hat)\n",
    "# fig3.savefig('fig3.eps', format='eps')\n",
    "\n",
    "plt.show()"
   ]
  },
  {
   "cell_type": "code",
   "execution_count": 7,
   "metadata": {},
   "outputs": [
    {
     "name": "stdout",
     "output_type": "stream",
     "text": [
      "The convergence rate for M_hat power method: 1.0\n",
      "The dominant eigenvalue modulus using power method [1.]\n",
      "The dominant eigenvalue modulus using the direct method (numpy): 1.0\n",
      "The dominant eigenvector using the power method:\n",
      " [0. 0. 0. ... 0. 0. 0.]\n",
      "The dominant eigenvector using the direct method (numpy):\n",
      " [[2.92655381e-13]\n",
      " [2.28036935e-15]\n",
      " [2.26412470e-15]\n",
      " ...\n",
      " [1.30981955e-15]\n",
      " [1.30981955e-15]\n",
      " [1.27208916e-15]]\n",
      "Relative error between eigenvalues: [4.95159469e-14]\n",
      "Number of iterations needed for convergence: 3158\n"
     ]
    }
   ],
   "source": [
    "### Q10\n",
    "eigsM, vecsM = np.linalg.eig(M_hat)\n",
    "lambda1M, v1M, iterM, errM = power_method(M_hat, tol=1e-16, maxIter=5000)\n",
    "print('The convergence rate for M_hat power method:', abs(eigsM[1])/abs(eigsM[0]))\n",
    "print('The dominant eigenvalue modulus using power method', lambda1M)\n",
    "print('The dominant eigenvalue modulus using the direct method (numpy):', abs(eigsM[0]))\n",
    "print('The dominant eigenvector using the power method:\\n', abs(vecsM[:,0])/np.sum(abs(vecsM[:,0])))\n",
    "print('The dominant eigenvector using the direct method (numpy):\\n', v1M)\n",
    "print('Relative error between eigenvalues:', abs(lambda1M-abs(eigsM[0])/abs(eigsM[0])))\n",
    "print('Number of iterations needed for convergence:', iterM)"
   ]
  },
  {
   "cell_type": "code",
   "execution_count": 9,
   "metadata": {},
   "outputs": [
    {
     "name": "stdout",
     "output_type": "stream",
     "text": [
      "The Google Matrix:\n",
      "[[4.80860335e-03 6.54446154e-02 4.00000000e-04 ... 2.43457143e-02\n",
      "  2.36711111e-02 4.00000000e-04]\n",
      " [4.80860335e-03 6.00000000e-05 4.00000000e-04 ... 6.00000000e-05\n",
      "  6.00000000e-05 4.00000000e-04]\n",
      " [4.80860335e-03 6.00000000e-05 4.00000000e-04 ... 6.00000000e-05\n",
      "  6.00000000e-05 4.00000000e-04]\n",
      " ...\n",
      " [6.00000000e-05 6.00000000e-05 4.00000000e-04 ... 2.43457143e-02\n",
      "  2.36711111e-02 4.00000000e-04]\n",
      " [6.00000000e-05 6.00000000e-05 4.00000000e-04 ... 2.43457143e-02\n",
      "  2.36711111e-02 4.00000000e-04]\n",
      " [6.00000000e-05 6.00000000e-05 4.00000000e-04 ... 6.00000000e-05\n",
      "  2.36711111e-02 4.00000000e-04]]\n"
     ]
    }
   ],
   "source": [
    "### Q12\n",
    "alpha = 0.85\n",
    "A = google_mat(G, c, alpha)\n",
    "print('The Google Matrix:')\n",
    "print(A)\n"
   ]
  },
  {
   "cell_type": "code",
   "execution_count": 10,
   "metadata": {},
   "outputs": [
    {
     "name": "stdout",
     "output_type": "stream",
     "text": [
      "The PageRank vector resulting from exploring the web:\n",
      "[[0.0359407 ]\n",
      " [0.00032532]\n",
      " [0.00032219]\n",
      " ...\n",
      " [0.00026065]\n",
      " [0.00026065]\n",
      " [0.00025432]]\n",
      "The number of iterations needed for exploration to converge: 180\n"
     ]
    }
   ],
   "source": [
    "### Q13\n",
    "converged_exploration, iterConv = explore_web(A, maxIter=5000, tol=1e-16)\n",
    "print('The PageRank vector resulting from exploring the web:')\n",
    "print(converged_exploration)\n",
    "print('The number of iterations needed for exploration to converge:', iterConv)"
   ]
  },
  {
   "cell_type": "code",
   "execution_count": 11,
   "metadata": {},
   "outputs": [
    {
     "name": "stdout",
     "output_type": "stream",
     "text": [
      "The convergence rate for A power method: 0.8430843682029976\n",
      "The dominant eigenvalue modulus using power method [1.]\n",
      "The dominant eigenvalue modulus using the direct method (numpy): 0.9999999999999989\n",
      "The dominant eigenvector using the power method:\n",
      " [[0.0359407 ]\n",
      " [0.00032532]\n",
      " [0.00032219]\n",
      " ...\n",
      " [0.00026065]\n",
      " [0.00026065]\n",
      " [0.00025432]]\n",
      "The dominant eigenvector using the direct method (numpy):\n",
      " [0.0359407  0.00032532 0.00032219 ... 0.00026065 0.00026065 0.00025432]\n",
      "Relative error between eigenvalues: [1.11022302e-15]\n",
      "Number of iterations needed for convergence: 179\n",
      "The norm of difference between the actual dominant eigenvector and the approximate one:\n",
      "3.8074355366963485e-16\n",
      "The norm of difference between the actual dominant eigenvector (PageRank vector) and the result of question 13:\n",
      "2.96316678647284e-16\n"
     ]
    }
   ],
   "source": [
    "### Q14\n",
    "eigsA, vecsA = np.linalg.eig(A)\n",
    "lambda1A, v1A, iterA, errA = power_method(A, tol=1e-16, maxIter=5000)\n",
    "print('The convergence rate for A power method:', abs(eigsA[1])/abs(eigsA[0]))\n",
    "print('The dominant eigenvalue modulus using power method', lambda1A)\n",
    "print('The dominant eigenvalue modulus using the direct method (numpy):', abs(eigsA[0]))\n",
    "print('The dominant eigenvector using the power method:\\n', v1A)\n",
    "print('The dominant eigenvector using the direct method (numpy):\\n', abs(vecsA[:,0]/np.sum(abs(vecsA[:,0]))))\n",
    "print('Relative error between eigenvalues:', abs((lambda1A-abs(eigsA[0]))/abs(eigsA[0])))\n",
    "print('Number of iterations needed for convergence:', iterA)\n",
    "print('The norm of difference between the actual dominant eigenvector and the approximate one:')\n",
    "print(np.linalg.norm(abs(vecsA[:,0]/np.sum(abs(vecsA[:,0])))-v1A.ravel()))\n",
    "print('The norm of difference between the actual dominant eigenvector (PageRank vector) and the result of question 13:')\n",
    "print(np.linalg.norm(abs(vecsA[:,0]/np.sum(abs(vecsA[:,0])))-converged_exploration.ravel()))\n"
   ]
  },
  {
   "cell_type": "code",
   "execution_count": 12,
   "metadata": {},
   "outputs": [
    {
     "name": "stdout",
     "output_type": "stream",
     "text": [
      "Google matrix as sum of a sparse matrix and a coefficient matrix\n",
      "(array([[0.0047486 , 0.06538462, 0.        , ..., 0.02428571, 0.02361111,\n",
      "        0.        ],\n",
      "       [0.0047486 , 0.        , 0.        , ..., 0.        , 0.        ,\n",
      "        0.        ],\n",
      "       [0.0047486 , 0.        , 0.        , ..., 0.        , 0.        ,\n",
      "        0.        ],\n",
      "       ...,\n",
      "       [0.        , 0.        , 0.        , ..., 0.02428571, 0.02361111,\n",
      "        0.        ],\n",
      "       [0.        , 0.        , 0.        , ..., 0.02428571, 0.02361111,\n",
      "        0.        ],\n",
      "       [0.        , 0.        , 0.        , ..., 0.        , 0.02361111,\n",
      "        0.        ]]), array([6.e-05, 6.e-05, 4.e-04, ..., 6.e-05, 6.e-05, 4.e-04]))\n"
     ]
    }
   ],
   "source": [
    "### Q15\n",
    "print(\"Google matrix as sum of a sparse matrix and a coefficient matrix\")\n",
    "print(matrix_sparser(A, G, c, alpha))"
   ]
  },
  {
   "cell_type": "code",
   "execution_count": 13,
   "metadata": {},
   "outputs": [
    {
     "name": "stdout",
     "output_type": "stream",
     "text": [
      "The second M_hat dominant eigenvalue modulus using power method [0.97921497]\n",
      "The second M_hat dominant eigenvalue modulus using the direct method (numpy): 1.0\n",
      "Relative error between eigenvalues: [0.02078503]\n"
     ]
    }
   ],
   "source": [
    "### Q17\n",
    "lambda2M = shifted_power_method(M_hat, maxIter=5000, tol=1e-16)\n",
    "print('The second M_hat dominant eigenvalue modulus using power method', lambda2M)\n",
    "print('The second M_hat dominant eigenvalue modulus using the direct method (numpy):', abs(eigsM[1]))\n",
    "print('Relative error between eigenvalues:', abs((lambda2M-abs(eigsM[1]))/abs(eigsM[1])))"
   ]
  },
  {
   "cell_type": "code",
   "execution_count": 14,
   "metadata": {},
   "outputs": [
    {
     "data": {
      "image/png": "[encoded data removed]",
      "text/plain": [
       "<Figure size 7200x720 with 1 Axes>"
      ]
     },
     "metadata": {
      "needs_background": "light"
     },
     "output_type": "display_data"
    }
   ],
   "source": [
    "### Q19\n",
    "page_rank_vector=v1A.ravel()\n",
    "fig4, ax = plt.subplots(figsize=(100,10))\n",
    "x = np.argsort(page_rank_vector)\n",
    "width = 0.35\n",
    "sortedVector = np.sort(page_rank_vector)\n",
    "ax.bar(x, sortedVector, width=width),\n",
    "ax.set_ylim(0,0.05)\n",
    "ax.set_xlabel('page index')\n",
    "ax.set_ylabel('rank')\n",
    "ax.set_title('The page ranks bar graph for all pages')\n",
    "fig4.tight_layout()\n",
    "fig4.savefig('fig4.eps', format='eps')\n"
   ]
  },
  {
   "cell_type": "code",
   "execution_count": 15,
   "metadata": {},
   "outputs": [
    {
     "name": "stdout",
     "output_type": "stream",
     "text": [
      "The indices of the highest page ranks\n",
      "[ 186    0  187 1029  427   75  100  381  185 1318 1319  384]\n",
      "The 12 highest page ranks:\n",
      "[0.03983702257695924, 0.03594070269968491, 0.0180663301253158, 0.00997644966329324, 0.006803101148902153, 0.004027109476322264, 0.003998714651988464, 0.0035014808499048114, 0.0034858351045787836, 0.003411940599247278, 0.0034119405992472725, 0.003306607947643815]\n",
      "The in-degs of the 12 highest page ranks\n",
      "[1112. 1109.  283.   29.   70.   38.   16.  160.   35.   30.   30.   41.]\n",
      "The out-degs of the 12 highest page ranks\n",
      "[ 13. 179.   3.   0.   1.  31.  14.   0.   1.   1.   1.   1.]\n"
     ]
    },
    {
     "data": {
      "image/png": "[encoded data removed]",
      "text/plain": [
       "<Figure size 1152x648 with 1 Axes>"
      ]
     },
     "metadata": {
      "needs_background": "light"
     },
     "output_type": "display_data"
    }
   ],
   "source": [
    "\n",
    "\n",
    "\n",
    "    sorted_probs = []\n",
    "    sorted_ranks_ind = []\n",
    "    counter = 1\n",
    "    for i in np.flip(x):\n",
    "        if counter == 13:\n",
    "            break\n",
    "        sorted_ranks_ind.append(counter)\n",
    "        sorted_probs.append(page_rank_vector[i])\n",
    "        counter += 1\n",
    "\n",
    "    fig5, ax = plt.subplots(figsize=(16,9))\n",
    "    inds = sorted_ranks_ind\n",
    "    sortedVector = sorted_probs\n",
    "    ax.bar(inds, sortedVector, width=0.35)\n",
    "    ax.set_xticks(inds)\n",
    "    ax.set_ylim(0,0.05)\n",
    "    ax.set_xlabel('page index')\n",
    "    ax.set_ylabel('rank')\n",
    "    ax.set_title('The 12 highest page ranks')\n",
    "    fig5.tight_layout()\n",
    "    fig5.savefig('fig5.eps', format='eps')\n",
    "\n",
    "    indices12 = np.flip(x)[:12]\n",
    "    outs = c[np.array(indices12)]\n",
    "    ins = r[np.array(indices12)]\n",
    "    print('The indices of the highest page ranks')\n",
    "    print(indices12)\n",
    "    print('The 12 highest page ranks:')\n",
    "    print(sortedVector)\n",
    "    print('The in-degs of the 12 highest page ranks')\n",
    "    print(ins)\n",
    "    print('The out-degs of the 12 highest page ranks')\n",
    "    print(outs)\n",
    "\n",
    "    plt.show()"
   ]
  },
  {
   "cell_type": "code",
   "execution_count": null,
   "metadata": {},
   "outputs": [],
   "source": []
  }
 ],
 "metadata": {
  "colab": {
   "authorship_tag": "ABX9TyP1PyfwtE8ywqDrYAlZtRVy",
   "collapsed_sections": [],
   "name": "lab9.ipynb",
   "provenance": [],
   "toc_visible": true
  },
  "kernelspec": {
   "display_name": "Python 3",
   "language": "python",
   "name": "python3"
  },
  "language_info": {
   "codemirror_mode": {
    "name": "ipython",
    "version": 3
   },
   "file_extension": ".py",
   "mimetype": "text/x-python",
   "name": "python",
   "nbconvert_exporter": "python",
   "pygments_lexer": "ipython3",
   "version": "3.8.5"
  }
 },
 "nbformat": 4,
 "nbformat_minor": 4
}
